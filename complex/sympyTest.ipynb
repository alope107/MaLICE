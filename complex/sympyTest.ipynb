{
 "nbformat": 4,
 "nbformat_minor": 2,
 "metadata": {
  "language_info": {
   "name": "python",
   "codemirror_mode": {
    "name": "ipython",
    "version": 3
   },
   "version": "3.6.8-final"
  },
  "orig_nbformat": 2,
  "file_extension": ".py",
  "mimetype": "text/x-python",
  "name": "python",
  "npconvert_exporter": "python",
  "pygments_lexer": "ipython3",
  "version": 3,
  "kernelspec": {
   "name": "python36864bitenvvirtualenv3e48368b9cbb485181e77a3dea060960",
   "display_name": "Python 3.6.8 64-bit ('env': virtualenv)"
  }
 },
 "cells": [
  {
   "cell_type": "code",
   "execution_count": 130,
   "metadata": {},
   "outputs": [],
   "source": [
    "import numpy as np\n",
    "import pandas as pd\n",
    "from sympy.abc import x, y\n",
    "from sympy import sqrt, exp, pi, E, log\n",
    "from sympy import Symbol, lambdify, symbols, simplify, Matrix\n",
    "from matplotlib import pyplot as plt\n",
    "%matplotlib inline\n",
    "sigma = Symbol(\"sigma\")\n",
    "mu = Symbol(\"mu\")\n",
    "\n",
    ""
   ]
  },
  {
   "cell_type": "code",
   "execution_count": 132,
   "metadata": {},
   "outputs": [],
   "source": [
    "from io import StringIO\n",
    "from unittest import TestCase\n",
    "\n",
    "import pandas as pd\n",
    "from pandas.testing import assert_series_equal\n",
    "import numpy as np\n",
    "\n",
    "from malice.optimizer import MaliceOptimizer, regularization_penalty"
   ]
  },
  {
   "cell_type": "code",
   "execution_count": 25,
   "metadata": {},
   "outputs": [
    {
     "output_type": "execute_result",
     "data": {
      "text/plain": "sqrt(2)*exp(-x**2/2)/(2*sqrt(pi))",
      "text/latex": "$\\displaystyle \\frac{\\sqrt{2} e^{- \\frac{x^{2}}{2}}}{2 \\sqrt{\\pi}}$"
     },
     "metadata": {},
     "execution_count": 25
    }
   ],
   "source": [
    "sqrt(2)*exp(-x**2/2)/(2*sqrt(pi))"
   ]
  },
  {
   "cell_type": "code",
   "execution_count": 32,
   "metadata": {},
   "outputs": [],
   "source": [
    "def normal_pdf():\n",
    "    frac = 1/(sigma\n"
   ]
  },
  {
   "cell_type": "code",
   "execution_count": 64,
   "metadata": {},
   "outputs": [
    {
     "output_type": "execute_result",
     "data": {
      "text/plain": "log(sqrt(2)*exp(-(-mu + x)**2/(2*sigma**2))/(2*sqrt(pi)*sigma))",
      "text/latex": "$\\displaystyle \\log{\\left(\\frac{\\sqrt{2} e^{- \\frac{\\left(- \\mu + x\\right)^{2}}{2 \\sigma^{2}}}}{2 \\sqrt{\\pi} \\sigma} \\right)}$"
     },
     "metadata": {},
     "execution_count": 64
    }
   ],
   "source": [
    "frac = 1/(sigma * sqrt(2*pi))\n",
    "exp = (((x-mu)/sigma)**2)/-2\n",
    "norm_pdf = frac*E**exp\n",
    "norm_logpdf = log(norm_pdf)\n",
    "norm_logpdf"
   ]
  },
  {
   "cell_type": "code",
   "execution_count": 68,
   "metadata": {},
   "outputs": [],
   "source": [
    "deriv = norm_logpdf.diff(x)"
   ]
  },
  {
   "cell_type": "code",
   "execution_count": 72,
   "metadata": {},
   "outputs": [],
   "source": [
    "hmm = lambdify((x, sigma, mu), deriv, \"numpy\")"
   ]
  },
  {
   "cell_type": "code",
   "execution_count": 77,
   "metadata": {},
   "outputs": [
    {
     "output_type": "execute_result",
     "data": {
      "text/plain": "array([-0.5, -2. , -0.5])"
     },
     "metadata": {},
     "execution_count": 77
    }
   ],
   "source": [
    "hmm(np.array([3, 9, 3]), np.array([2, 2, 2]), np.array([1, 1, 1]))"
   ]
  },
  {
   "cell_type": "code",
   "execution_count": 54,
   "metadata": {},
   "outputs": [],
   "source": [
    "d_norm_pdf = norm_pdf.diff(x).subs({mu: 0, sigma: 1})\n",
    "def num_d_norm_pdf(x_num):\n",
    "    return d_norm_pdf.subs(x, x_num).evalf()\n",
    ""
   ]
  },
  {
   "cell_type": "code",
   "execution_count": 56,
   "metadata": {},
   "outputs": [
    {
     "output_type": "execute_result",
     "data": {
      "text/plain": "-0.241970724519143",
      "text/latex": "$\\displaystyle -0.241970724519143$"
     },
     "metadata": {},
     "execution_count": 56
    }
   ],
   "source": [
    "num_d_norm_pdf(1)"
   ]
  },
  {
   "cell_type": "code",
   "execution_count": 60,
   "metadata": {},
   "outputs": [],
   "source": [
    "xs = np.arange(-5, 5, .1)\n",
    "ys = [num_d_norm_pdf(x_val) for x_val in xs]"
   ]
  },
  {
   "cell_type": "code",
   "execution_count": 61,
   "metadata": {},
   "outputs": [
    {
     "output_type": "execute_result",
     "data": {
      "text/plain": "[<matplotlib.lines.Line2D at 0x7f943b55d4a8>]"
     },
     "metadata": {},
     "execution_count": 61
    },
    {
     "output_type": "display_data",
     "data": {
      "text/plain": "<Figure size 432x288 with 1 Axes>",
      "image/svg+xml": "<?xml version=\"1.0\" encoding=\"utf-8\" standalone=\"no\"?>\n<!DOCTYPE svg PUBLIC \"-//W3C//DTD SVG 1.1//EN\"\n  \"http://www.w3.org/Graphics/SVG/1.1/DTD/svg11.dtd\">\n<!-- Created with matplotlib (https://matplotlib.org/) -->\n<svg height=\"252.018125pt\" version=\"1.1\" viewBox=\"0 0 383.982812 252.018125\" width=\"383.982812pt\" xmlns=\"http://www.w3.org/2000/svg\" xmlns:xlink=\"http://www.w3.org/1999/xlink\">\n <defs>\n  <style type=\"text/css\">\n*{stroke-linecap:butt;stroke-linejoin:round;}\n  </style>\n </defs>\n <g id=\"figure_1\">\n  <g id=\"patch_1\">\n   <path d=\"M -0 252.018125 \nL 383.982812 252.018125 \nL 383.982812 0 \nL -0 0 \nz\n\" style=\"fill:none;\"/>\n  </g>\n  <g id=\"axes_1\">\n   <g id=\"patch_2\">\n    <path d=\"M 38.482813 228.14 \nL 373.282813 228.14 \nL 373.282813 10.7 \nL 38.482813 10.7 \nz\n\" style=\"fill:#ffffff;\"/>\n   </g>\n   <g id=\"matplotlib.axis_1\">\n    <g id=\"xtick_1\">\n     <g id=\"line2d_1\">\n      <defs>\n       <path d=\"M 0 0 \nL 0 3.5 \n\" id=\"m46f7256b2f\" style=\"stroke:#000000;stroke-width:0.8;\"/>\n      </defs>\n      <g>\n       <use style=\"stroke:#000000;stroke-width:0.8;\" x=\"84.444796\" xlink:href=\"#m46f7256b2f\" y=\"228.14\"/>\n      </g>\n     </g>\n     <g id=\"text_1\">\n      <!-- −4 -->\n      <defs>\n       <path d=\"M 10.59375 35.5 \nL 73.1875 35.5 \nL 73.1875 27.203125 \nL 10.59375 27.203125 \nz\n\" id=\"DejaVuSans-8722\"/>\n       <path d=\"M 37.796875 64.3125 \nL 12.890625 25.390625 \nL 37.796875 25.390625 \nz\nM 35.203125 72.90625 \nL 47.609375 72.90625 \nL 47.609375 25.390625 \nL 58.015625 25.390625 \nL 58.015625 17.1875 \nL 47.609375 17.1875 \nL 47.609375 0 \nL 37.796875 0 \nL 37.796875 17.1875 \nL 4.890625 17.1875 \nL 4.890625 26.703125 \nz\n\" id=\"DejaVuSans-52\"/>\n      </defs>\n      <g transform=\"translate(77.073702 242.738437)scale(0.1 -0.1)\">\n       <use xlink:href=\"#DejaVuSans-8722\"/>\n       <use x=\"83.789062\" xlink:href=\"#DejaVuSans-52\"/>\n      </g>\n     </g>\n    </g>\n    <g id=\"xtick_2\">\n     <g id=\"line2d_2\">\n      <g>\n       <use style=\"stroke:#000000;stroke-width:0.8;\" x=\"145.932399\" xlink:href=\"#m46f7256b2f\" y=\"228.14\"/>\n      </g>\n     </g>\n     <g id=\"text_2\">\n      <!-- −2 -->\n      <defs>\n       <path d=\"M 19.1875 8.296875 \nL 53.609375 8.296875 \nL 53.609375 0 \nL 7.328125 0 \nL 7.328125 8.296875 \nQ 12.9375 14.109375 22.625 23.890625 \nQ 32.328125 33.6875 34.8125 36.53125 \nQ 39.546875 41.84375 41.421875 45.53125 \nQ 43.3125 49.21875 43.3125 52.78125 \nQ 43.3125 58.59375 39.234375 62.25 \nQ 35.15625 65.921875 28.609375 65.921875 \nQ 23.96875 65.921875 18.8125 64.3125 \nQ 13.671875 62.703125 7.8125 59.421875 \nL 7.8125 69.390625 \nQ 13.765625 71.78125 18.9375 73 \nQ 24.125 74.21875 28.421875 74.21875 \nQ 39.75 74.21875 46.484375 68.546875 \nQ 53.21875 62.890625 53.21875 53.421875 \nQ 53.21875 48.921875 51.53125 44.890625 \nQ 49.859375 40.875 45.40625 35.40625 \nQ 44.1875 33.984375 37.640625 27.21875 \nQ 31.109375 20.453125 19.1875 8.296875 \nz\n\" id=\"DejaVuSans-50\"/>\n      </defs>\n      <g transform=\"translate(138.561306 242.738437)scale(0.1 -0.1)\">\n       <use xlink:href=\"#DejaVuSans-8722\"/>\n       <use x=\"83.789062\" xlink:href=\"#DejaVuSans-50\"/>\n      </g>\n     </g>\n    </g>\n    <g id=\"xtick_3\">\n     <g id=\"line2d_3\">\n      <g>\n       <use style=\"stroke:#000000;stroke-width:0.8;\" x=\"207.420003\" xlink:href=\"#m46f7256b2f\" y=\"228.14\"/>\n      </g>\n     </g>\n     <g id=\"text_3\">\n      <!-- 0 -->\n      <defs>\n       <path d=\"M 31.78125 66.40625 \nQ 24.171875 66.40625 20.328125 58.90625 \nQ 16.5 51.421875 16.5 36.375 \nQ 16.5 21.390625 20.328125 13.890625 \nQ 24.171875 6.390625 31.78125 6.390625 \nQ 39.453125 6.390625 43.28125 13.890625 \nQ 47.125 21.390625 47.125 36.375 \nQ 47.125 51.421875 43.28125 58.90625 \nQ 39.453125 66.40625 31.78125 66.40625 \nz\nM 31.78125 74.21875 \nQ 44.046875 74.21875 50.515625 64.515625 \nQ 56.984375 54.828125 56.984375 36.375 \nQ 56.984375 17.96875 50.515625 8.265625 \nQ 44.046875 -1.421875 31.78125 -1.421875 \nQ 19.53125 -1.421875 13.0625 8.265625 \nQ 6.59375 17.96875 6.59375 36.375 \nQ 6.59375 54.828125 13.0625 64.515625 \nQ 19.53125 74.21875 31.78125 74.21875 \nz\n\" id=\"DejaVuSans-48\"/>\n      </defs>\n      <g transform=\"translate(204.238753 242.738437)scale(0.1 -0.1)\">\n       <use xlink:href=\"#DejaVuSans-48\"/>\n      </g>\n     </g>\n    </g>\n    <g id=\"xtick_4\">\n     <g id=\"line2d_4\">\n      <g>\n       <use style=\"stroke:#000000;stroke-width:0.8;\" x=\"268.907606\" xlink:href=\"#m46f7256b2f\" y=\"228.14\"/>\n      </g>\n     </g>\n     <g id=\"text_4\">\n      <!-- 2 -->\n      <g transform=\"translate(265.726356 242.738437)scale(0.1 -0.1)\">\n       <use xlink:href=\"#DejaVuSans-50\"/>\n      </g>\n     </g>\n    </g>\n    <g id=\"xtick_5\">\n     <g id=\"line2d_5\">\n      <g>\n       <use style=\"stroke:#000000;stroke-width:0.8;\" x=\"330.395209\" xlink:href=\"#m46f7256b2f\" y=\"228.14\"/>\n      </g>\n     </g>\n     <g id=\"text_5\">\n      <!-- 4 -->\n      <g transform=\"translate(327.213959 242.738437)scale(0.1 -0.1)\">\n       <use xlink:href=\"#DejaVuSans-52\"/>\n      </g>\n     </g>\n    </g>\n   </g>\n   <g id=\"matplotlib.axis_2\">\n    <g id=\"ytick_1\">\n     <g id=\"line2d_6\">\n      <defs>\n       <path d=\"M 0 0 \nL -3.5 0 \n\" id=\"m30f920732b\" style=\"stroke:#000000;stroke-width:0.8;\"/>\n      </defs>\n      <g>\n       <use style=\"stroke:#000000;stroke-width:0.8;\" x=\"38.482813\" xlink:href=\"#m30f920732b\" y=\"201.112828\"/>\n      </g>\n     </g>\n     <g id=\"text_6\">\n      <!-- −0.2 -->\n      <defs>\n       <path d=\"M 10.6875 12.40625 \nL 21 12.40625 \nL 21 0 \nL 10.6875 0 \nz\n\" id=\"DejaVuSans-46\"/>\n      </defs>\n      <g transform=\"translate(7.2 204.912047)scale(0.1 -0.1)\">\n       <use xlink:href=\"#DejaVuSans-8722\"/>\n       <use x=\"83.789062\" xlink:href=\"#DejaVuSans-48\"/>\n       <use x=\"147.412109\" xlink:href=\"#DejaVuSans-46\"/>\n       <use x=\"179.199219\" xlink:href=\"#DejaVuSans-50\"/>\n      </g>\n     </g>\n    </g>\n    <g id=\"ytick_2\">\n     <g id=\"line2d_7\">\n      <g>\n       <use style=\"stroke:#000000;stroke-width:0.8;\" x=\"38.482813\" xlink:href=\"#m30f920732b\" y=\"160.266414\"/>\n      </g>\n     </g>\n     <g id=\"text_7\">\n      <!-- −0.1 -->\n      <defs>\n       <path d=\"M 12.40625 8.296875 \nL 28.515625 8.296875 \nL 28.515625 63.921875 \nL 10.984375 60.40625 \nL 10.984375 69.390625 \nL 28.421875 72.90625 \nL 38.28125 72.90625 \nL 38.28125 8.296875 \nL 54.390625 8.296875 \nL 54.390625 0 \nL 12.40625 0 \nz\n\" id=\"DejaVuSans-49\"/>\n      </defs>\n      <g transform=\"translate(7.2 164.065633)scale(0.1 -0.1)\">\n       <use xlink:href=\"#DejaVuSans-8722\"/>\n       <use x=\"83.789062\" xlink:href=\"#DejaVuSans-48\"/>\n       <use x=\"147.412109\" xlink:href=\"#DejaVuSans-46\"/>\n       <use x=\"179.199219\" xlink:href=\"#DejaVuSans-49\"/>\n      </g>\n     </g>\n    </g>\n    <g id=\"ytick_3\">\n     <g id=\"line2d_8\">\n      <g>\n       <use style=\"stroke:#000000;stroke-width:0.8;\" x=\"38.482813\" xlink:href=\"#m30f920732b\" y=\"119.42\"/>\n      </g>\n     </g>\n     <g id=\"text_8\">\n      <!-- 0.0 -->\n      <g transform=\"translate(15.579688 123.219219)scale(0.1 -0.1)\">\n       <use xlink:href=\"#DejaVuSans-48\"/>\n       <use x=\"63.623047\" xlink:href=\"#DejaVuSans-46\"/>\n       <use x=\"95.410156\" xlink:href=\"#DejaVuSans-48\"/>\n      </g>\n     </g>\n    </g>\n    <g id=\"ytick_4\">\n     <g id=\"line2d_9\">\n      <g>\n       <use style=\"stroke:#000000;stroke-width:0.8;\" x=\"38.482813\" xlink:href=\"#m30f920732b\" y=\"78.573586\"/>\n      </g>\n     </g>\n     <g id=\"text_9\">\n      <!-- 0.1 -->\n      <g transform=\"translate(15.579688 82.372805)scale(0.1 -0.1)\">\n       <use xlink:href=\"#DejaVuSans-48\"/>\n       <use x=\"63.623047\" xlink:href=\"#DejaVuSans-46\"/>\n       <use x=\"95.410156\" xlink:href=\"#DejaVuSans-49\"/>\n      </g>\n     </g>\n    </g>\n    <g id=\"ytick_5\">\n     <g id=\"line2d_10\">\n      <g>\n       <use style=\"stroke:#000000;stroke-width:0.8;\" x=\"38.482813\" xlink:href=\"#m30f920732b\" y=\"37.727172\"/>\n      </g>\n     </g>\n     <g id=\"text_10\">\n      <!-- 0.2 -->\n      <g transform=\"translate(15.579688 41.526391)scale(0.1 -0.1)\">\n       <use xlink:href=\"#DejaVuSans-48\"/>\n       <use x=\"63.623047\" xlink:href=\"#DejaVuSans-46\"/>\n       <use x=\"95.410156\" xlink:href=\"#DejaVuSans-50\"/>\n      </g>\n     </g>\n    </g>\n   </g>\n   <g id=\"line2d_11\">\n    <path clip-path=\"url(#pfd685812a2)\" d=\"M 53.700994 119.416964 \nL 56.775374 119.415118 \nL 59.849755 119.412233 \nL 62.924135 119.407771 \nL 65.998515 119.400946 \nL 69.072895 119.39062 \nL 72.147275 119.375172 \nL 75.221655 119.352317 \nL 78.296036 119.31888 \nL 81.370416 119.270513 \nL 84.444796 119.201341 \nL 87.519176 119.10354 \nL 90.593556 118.966851 \nL 93.667936 118.778022 \nL 96.742317 118.520216 \nL 99.816697 118.172391 \nL 102.891077 117.708721 \nL 105.965457 117.098095 \nL 109.039837 116.303793 \nL 112.114217 115.283427 \nL 115.188598 113.989247 \nL 118.262978 112.368952 \nL 121.337358 110.367101 \nL 124.411738 107.927239 \nL 127.486118 104.994795 \nL 130.560498 101.520795 \nL 133.634879 97.46633 \nL 136.709259 92.807668 \nL 139.783639 87.541782 \nL 142.858019 81.691985 \nL 145.932399 75.313253 \nL 149.006779 68.496756 \nL 152.08116 61.373045 \nL 155.15554 54.113352 \nL 158.22992 46.928507 \nL 161.3043 40.06506 \nL 164.37868 33.79838 \nL 167.45306 28.422698 \nL 170.527441 24.238352 \nL 173.601821 21.536718 \nL 176.676201 20.583636 \nL 179.750581 21.602346 \nL 182.824961 24.757111 \nL 185.899341 30.138826 \nL 188.973722 37.75382 \nL 192.048102 47.51697 \nL 195.122482 59.249942 \nL 198.196862 72.685026 \nL 201.271242 87.474617 \nL 204.345622 103.205912 \nL 207.420003 119.42 \nL 210.494383 135.634088 \nL 213.568763 151.365383 \nL 216.643143 166.154974 \nL 219.717523 179.590058 \nL 222.791903 191.32303 \nL 225.866284 201.08618 \nL 228.940664 208.701174 \nL 232.015044 214.082889 \nL 235.089424 217.237654 \nL 238.163804 218.256364 \nL 241.238184 217.303282 \nL 244.312565 214.601648 \nL 247.386945 210.417302 \nL 250.461325 205.04162 \nL 253.535705 198.77494 \nL 256.610085 191.911493 \nL 259.684465 184.726648 \nL 262.758846 177.466955 \nL 265.833226 170.343244 \nL 268.907606 163.526747 \nL 271.981986 157.148015 \nL 275.056366 151.298218 \nL 278.130746 146.032332 \nL 281.205127 141.37367 \nL 284.279507 137.319205 \nL 287.353887 133.845205 \nL 290.428267 130.912761 \nL 293.502647 128.472899 \nL 296.577027 126.471048 \nL 299.651408 124.850753 \nL 302.725788 123.556573 \nL 305.800168 122.536207 \nL 308.874548 121.741905 \nL 311.948928 121.131279 \nL 315.023308 120.667609 \nL 318.097689 120.319784 \nL 321.172069 120.061978 \nL 324.246449 119.873149 \nL 327.320829 119.73646 \nL 330.395209 119.638659 \nL 333.469589 119.569487 \nL 336.54397 119.52112 \nL 339.61835 119.487683 \nL 342.69273 119.464828 \nL 345.76711 119.44938 \nL 348.84149 119.439054 \nL 351.91587 119.432229 \nL 354.990251 119.427767 \nL 358.064631 119.424882 \n\" style=\"fill:none;stroke:#1f77b4;stroke-linecap:square;stroke-width:1.5;\"/>\n   </g>\n   <g id=\"patch_3\">\n    <path d=\"M 38.482813 228.14 \nL 38.482813 10.7 \n\" style=\"fill:none;stroke:#000000;stroke-linecap:square;stroke-linejoin:miter;stroke-width:0.8;\"/>\n   </g>\n   <g id=\"patch_4\">\n    <path d=\"M 373.282813 228.14 \nL 373.282813 10.7 \n\" style=\"fill:none;stroke:#000000;stroke-linecap:square;stroke-linejoin:miter;stroke-width:0.8;\"/>\n   </g>\n   <g id=\"patch_5\">\n    <path d=\"M 38.482813 228.14 \nL 373.282813 228.14 \n\" style=\"fill:none;stroke:#000000;stroke-linecap:square;stroke-linejoin:miter;stroke-width:0.8;\"/>\n   </g>\n   <g id=\"patch_6\">\n    <path d=\"M 38.482813 10.7 \nL 373.282813 10.7 \n\" style=\"fill:none;stroke:#000000;stroke-linecap:square;stroke-linejoin:miter;stroke-width:0.8;\"/>\n   </g>\n  </g>\n </g>\n <defs>\n  <clipPath id=\"pfd685812a2\">\n   <rect height=\"217.44\" width=\"334.8\" x=\"38.482813\" y=\"10.7\"/>\n  </clipPath>\n </defs>\n</svg>\n",
      "image/png": "[encoded data removed]"
     },
     "metadata": {
      "needs_background": "light"
     }
    }
   ],
   "source": [
    "plt.plot(xs, ys)"
   ]
  },
  {
   "cell_type": "code",
   "execution_count": 103,
   "metadata": {},
   "outputs": [
    {
     "output_type": "execute_result",
     "data": {
      "text/plain": "I_ref",
      "text/latex": "$\\displaystyle I_{ref}$"
     },
     "metadata": {},
     "execution_count": 103
    }
   ],
   "source": [
    "kd_exp, koff_exp, dR2, amp_scaler = symbols(\"kd_exp koff_exp dR2 amp_scaler\")\n",
    "\n",
    "visible, titrant, i_ref = symbols(\"visible titrant I_ref\")\n",
    "dw = Symbol(\"\\\\Delta \\\\omega\")\n",
    "i_ref"
   ]
  },
  {
   "cell_type": "code",
   "execution_count": 149,
   "metadata": {},
   "outputs": [],
   "source": [
    "Kd = 10**kd_exp\n",
    "koff = 10**koff_exp\n",
    "kon = koff/Kd\n",
    "\n",
    "dimer = ((visible + titrant + Kd) -\n",
    "            sqrt((visible + titrant + Kd)**2 -\n",
    "            4*visible * titrant))/2\n",
    "\n",
    "pb = dimer/visible\n",
    "pa = 1 - pb\n",
    "\n",
    "free_titrant = titrant - dimer\n",
    "kr = koff\n",
    "kf = free_titrant * kon\n",
    "kex = kr + kf\n",
    "\n",
    "#TODO(auberon): Do something\n",
    "# Adjust the amplitude if the visible concentration is not equal\n",
    "# for all points\n",
    "# visibleconc = list(self.data.visible.drop_duplicates())\n",
    "# if len(visibleconc) > 1:\n",
    "#     amp_scaler = amp_scaler*(self.data.visible/np.mean(visibleconc))\n",
    "\n",
    "broad_denom = (kex**2 + (1-5*pa*pb)*dw**2)**2 + 4*pa*pb*(1-4*pa*pb)*dw**4\n",
    "i_broad = pa*pb*(dw**2)*kex * ((kex**2)+(1-5*pa*pb)*(dw**2))/broad_denom\n",
    "ihat = i_ref/(pa + pb + i_ref*(pb*dR2 + i_broad)/amp_scaler)\n",
    "cs_broad = pa*pb*(pa-pb)*(dw**3) * ((kex**2)+(1-3*pa*pb)*(dw**2))/broad_denom\n",
    "cshat = pb*dw - cs_broad\n",
    "result = Matrix([ihat, cshat])"
   ]
  },
  {
   "cell_type": "code",
   "execution_count": 129,
   "metadata": {},
   "outputs": [],
   "source": [
    "runnable = lambdify((kd_exp, koff_exp, dR2, amp_scaler, visible, titrant, i_ref, dw),result, \"numpy\")"
   ]
  },
  {
   "cell_type": "code",
   "execution_count": 152,
   "metadata": {},
   "outputs": [
    {
     "output_type": "stream",
     "name": "stdout",
     "text": "0    0.000000\n1    0.343206\n2    0.000000\n3    0.391781\n4    0.000000\n5    0.440175\ndtype: float64\n"
    }
   ],
   "source": [
    "# kd_exp, koff_exp, dR2, amp_scaler\n",
    "# visible, titrant, i_ref dw\n",
    "def _test_residues():\n",
    "    data = \"\"\"residue,15N,1H,intensity,titrant,visible\n",
    "6,124.567,7.763,3248421.0,0.0,150.0\n",
    "7,126.776,8.349,5053537.0,0.0,150.0\n",
    "9,121.124,8.202,2062229.0,0.0,150.0\n",
    "6,124.565,7.763,3191240.0,7.9,150.0\n",
    "7,126.777,8.349,4964073.0,7.9,150.0\n",
    "9,121.125,8.201,2136456.0,7.9,150.0\"\"\"\n",
    "    data_file = StringIO(data)\n",
    "    return pd.read_csv(data_file)\n",
    "\n",
    "def _test_object():\n",
    "    return MaliceOptimizer(data=_test_residues(),\n",
    "                           larmor=500,\n",
    "                           nh_scale=0.2,\n",
    "                           lam=0.015)\n",
    "\n",
    "optimizer = _test_object()\n",
    "\n",
    "# TODO(auberon): Refactor so this logic doesn't need to be in the test\n",
    "residue_params = optimizer.reference.copy()\n",
    "residue_params['dw'] = np.array([7, 8, 9])\n",
    "df = pd.merge(optimizer.data, residue_params, on='residue')\n",
    "\n",
    "runnable = lambdify((kd_exp, koff_exp, dR2, amp_scaler, visible, titrant, i_ref, dw),cshat, \"numpy\")\n",
    "\n",
    "res = runnable(1, 2, 3, 4, df[\"visible\"], df[\"titrant\"], df[\"I_ref\"], df[\"dw\"])\n",
    "print(res)\n",
    ""
   ]
  },
  {
   "cell_type": "code",
   "execution_count": null,
   "metadata": {},
   "outputs": [],
   "source": [
    "\n",
    "cs_broad = pa*pb*(pa-pb)*np.power(df.dw, 3) * (np.square(kex)+(1-3*pa*pb)*np.square(df.dw))/broad_denom\n",
    "cshat = pb*df.dw - cs_broad\n"
   ]
  },
  {
   "cell_type": "code",
   "execution_count": 93,
   "metadata": {},
   "outputs": [
    {
     "output_type": "execute_result",
     "data": {
      "text/plain": "\\Delta \\omega",
      "text/latex": "$\\displaystyle \\Delta \\omega$"
     },
     "metadata": {},
     "execution_count": 93
    }
   ],
   "source": [
    "Symbol(\"\\\\Delta \\\\omega\")"
   ]
  },
  {
   "cell_type": "code",
   "execution_count": 114,
   "metadata": {},
   "outputs": [],
   "source": [
    "v, s = symbols(\"v s\")"
   ]
  },
  {
   "cell_type": "code",
   "execution_count": 120,
   "metadata": {},
   "outputs": [],
   "source": [
    "simple = v**2 * s"
   ]
  },
  {
   "cell_type": "code",
   "execution_count": 121,
   "metadata": {},
   "outputs": [],
   "source": [
    "cool = lambdify((v, s), simple, \"numpy\")"
   ]
  },
  {
   "cell_type": "code",
   "execution_count": 122,
   "metadata": {},
   "outputs": [
    {
     "output_type": "execute_result",
     "data": {
      "text/plain": "array([ 63, 112, 175])"
     },
     "metadata": {},
     "execution_count": 122
    }
   ],
   "source": [
    "cool(np.array([3, 4, 5]), 7)"
   ]
  },
  {
   "cell_type": "code",
   "execution_count": null,
   "metadata": {},
   "outputs": [],
   "source": []
  }
 ]
}